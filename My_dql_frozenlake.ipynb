{
 "cells": [
  {
   "cell_type": "code",
   "execution_count": 1,
   "metadata": {},
   "outputs": [
    {
     "name": "stderr",
     "output_type": "stream",
     "text": [
      "Using TensorFlow backend.\n",
      "/home/david.bertoin/anaconda3/envs/IRT_RL2/lib/python3.5/importlib/_bootstrap.py:222: RuntimeWarning: numpy.dtype size changed, may indicate binary incompatibility. Expected 96, got 88\n",
      "  return f(*args, **kwds)\n",
      "/home/david.bertoin/anaconda3/envs/IRT_RL2/lib/python3.5/importlib/_bootstrap.py:222: RuntimeWarning: numpy.dtype size changed, may indicate binary incompatibility. Expected 96, got 88\n",
      "  return f(*args, **kwds)\n"
     ]
    }
   ],
   "source": [
    "import gym\n",
    "import random\n",
    "import os\n",
    "import numpy as np\n",
    "from collections      import deque\n",
    "from keras.models     import Sequential\n",
    "from keras.layers     import Dense, Activation\n",
    "from keras            import initializers;\n",
    "from keras.optimizers import Adam\n",
    "from tqdm import tqdm"
   ]
  },
  {
   "cell_type": "code",
   "execution_count": 2,
   "metadata": {},
   "outputs": [],
   "source": [
    "def create_model(state_size, action_size, learning_rate=0.01):\n",
    "    initializer = initializers.random_uniform(0, 0.1, seed=1)\n",
    "    model = Sequential()\n",
    "    model.add(Dense(action_size, input_dim=state_size,\n",
    "                    activation='softmax', kernel_initializer=initializer))\n",
    "    \n",
    "    model.compile(loss='mse', optimizer=Adam(learning_rate))\n",
    "    return model"
   ]
  },
  {
   "cell_type": "code",
   "execution_count": 3,
   "metadata": {},
   "outputs": [],
   "source": [
    "class Agent():\n",
    "    \n",
    "    def __init__(self, env):\n",
    "        \n",
    "        self.env = env\n",
    "        self.state_size = env.observation_space.n\n",
    "        self.action_size = env.action_space.n\n",
    "        self.brain = create_model(self.state_size, self.action_size)\n",
    "        self.memory = deque(maxlen=2000)\n",
    "        self.exploration_rate = 1.0\n",
    "        self.exploration_min = 0.01\n",
    "        self.exploration_decay = 0.995\n",
    "        self.gamma = 0.95\n",
    "        \n",
    "    def next_action(self, state):\n",
    "        if np.random.rand() <= self.exploration_rate:\n",
    "            return random.randrange(self.action_size)\n",
    "        actions = self.brain.predict(state)[0]\n",
    "        #print(actions)\n",
    "        return np.argmax(actions)\n",
    "    \n",
    "    def remember(self, state, action, reward, next_state, done):\n",
    "        self.memory.append((state, action, reward, next_state, done))\n",
    "    \n",
    "    def replay(self, batch_size):\n",
    "        if len(self.memory) < batch_size:\n",
    "                return\n",
    "        sample_batch = random.sample(self.memory, batch_size)\n",
    "        for state, action, reward, next_state, done in sample_batch:\n",
    "            target = self.brain.predict(state)\n",
    "            if not done:\n",
    "                target[0][action] = reward + self.gamma * np.amax(self.brain.predict(next_state)[0])\n",
    "            else:\n",
    "                target[0][action] = reward\n",
    "            self.brain.fit(state, target, epochs=1, verbose=0)\n",
    "\n",
    "        self.decay_exploration_rate()\n",
    "                \n",
    "    def decay_exploration_rate(self):\n",
    "        self.exploration_rate = max(self.exploration_min, self.exploration_rate * self.exploration_decay) \n",
    "    \n",
    "    def learn(self, num_episodes, max_step_by_episode=200, batch_size=32):\n",
    "        win = []\n",
    "        steps = []\n",
    "        for i in tqdm(range(num_episodes)):\n",
    "            state = env.reset()\n",
    "            state = np.identity(16)[state:state+1]\n",
    "            nb_steps_this_episode = 0\n",
    "            done = False\n",
    "            while not done:\n",
    "                action = self.next_action(state)\n",
    "                next_state, reward, done, _ = env.step(action)\n",
    "                next_state = np.identity(16)[next_state:next_state+1]\n",
    "                self.remember(state, action, reward, next_state, done)\n",
    "                nb_steps_this_episode += 1\n",
    "                if done:\n",
    "                    break\n",
    "                state = next_state\n",
    "            win.append(reward)\n",
    "            steps.append(nb_steps_this_episode)\n",
    "            self.replay(batch_size)\n",
    "        return win, steps\n",
    "     "
   ]
  },
  {
   "cell_type": "code",
   "execution_count": null,
   "metadata": {},
   "outputs": [
    {
     "name": "stderr",
     "output_type": "stream",
     "text": [
      "/home/david.bertoin/anaconda3/envs/IRT_RL2/lib/python3.5/importlib/_bootstrap.py:222: RuntimeWarning: numpy.dtype size changed, may indicate binary incompatibility. Expected 96, got 88\n",
      "  return f(*args, **kwds)\n",
      " 99%|█████████▉| 9926/10000 [16:00<00:07, 10.33it/s]"
     ]
    }
   ],
   "source": [
    "import matplotlib.pyplot as plt\n",
    "%matplotlib inline\n",
    "env = gym.make('FrozenLake-v0')\n",
    "agent = Agent(env)\n",
    "win, steps = agent.learn(10000)\n",
    "plt.figure(figsize=(20,5))\n",
    "plt.subplot(1,2,1)\n",
    "plt.plot(win)\n",
    "plt.subplot(1,2,2)\n",
    "plt.plot(steps)"
   ]
  },
  {
   "cell_type": "code",
   "execution_count": null,
   "metadata": {},
   "outputs": [],
   "source": [
    "plt.figure(figsize=(20,5))\n",
    "plt.subplot(1,2,1)\n",
    "plt.plot(win)\n",
    "plt.subplot(1,2,2)\n",
    "plt.plot(steps)"
   ]
  },
  {
   "cell_type": "code",
   "execution_count": null,
   "metadata": {},
   "outputs": [],
   "source": [
    "from IPython.display import clear_output\n",
    "from time import sleep\n",
    "\n",
    "def print_frames(frames, actions):\n",
    "    for i, frame in enumerate(frames):\n",
    "        clear_output(wait=True)\n",
    "        print(frame['frame'].getvalue())\n",
    "        print(\"Timestep:%s\" % (i + 1))\n",
    "        print(\"State: %s\" % frame['state'])\n",
    "        print(\"Action:  %s\" % actions[frame['action']])\n",
    "        print(\"Reward:  %s\" % frame['reward'])\n",
    "        sleep(0.5)"
   ]
  },
  {
   "cell_type": "code",
   "execution_count": null,
   "metadata": {},
   "outputs": [],
   "source": [
    "def play_policy(env, model):\n",
    "    s = env.reset()\n",
    "    d = 0\n",
    "    frames = []\n",
    "    while not d:\n",
    "        Q = model.predict(np.identity(16)[s:s+1])\n",
    "        a = np.argmax(Q)\n",
    "        s, r, d, _ = env.step(a)\n",
    "        frames.append({\n",
    "            'frame': env.render(mode='ansi'),\n",
    "            'state': s,\n",
    "            'action': a,\n",
    "            'reward': r\n",
    "            })\n",
    "    return frames        "
   ]
  },
  {
   "cell_type": "code",
   "execution_count": null,
   "metadata": {},
   "outputs": [],
   "source": [
    "frames = play_policy(env,agent.brain)\n",
    "actions = {0: '\\u2190', 1: '\\u2193', 2: '\\u2192', 3: '\\u2191'}\n",
    "print_frames(frames, actions)"
   ]
  },
  {
   "cell_type": "code",
   "execution_count": null,
   "metadata": {},
   "outputs": [],
   "source": []
  }
 ],
 "metadata": {
  "kernelspec": {
   "display_name": "IRT_RL2",
   "language": "python",
   "name": "irt_rl2"
  },
  "language_info": {
   "codemirror_mode": {
    "name": "ipython",
    "version": 3
   },
   "file_extension": ".py",
   "mimetype": "text/x-python",
   "name": "python",
   "nbconvert_exporter": "python",
   "pygments_lexer": "ipython3",
   "version": "3.5.5"
  }
 },
 "nbformat": 4,
 "nbformat_minor": 2
}
