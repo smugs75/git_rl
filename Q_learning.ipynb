{
 "cells": [
  {
   "cell_type": "code",
   "execution_count": 1,
   "metadata": {},
   "outputs": [
    {
     "name": "stderr",
     "output_type": "stream",
     "text": [
      "/home/david.bertoin/anaconda3/envs/IRT_RL2/lib/python3.5/importlib/_bootstrap.py:222: RuntimeWarning: numpy.dtype size changed, may indicate binary incompatibility. Expected 96, got 88\n",
      "  return f(*args, **kwds)\n",
      "/home/david.bertoin/anaconda3/envs/IRT_RL2/lib/python3.5/importlib/_bootstrap.py:222: RuntimeWarning: numpy.dtype size changed, may indicate binary incompatibility. Expected 96, got 88\n",
      "  return f(*args, **kwds)\n"
     ]
    }
   ],
   "source": [
    "import gym\n",
    "import numpy as np\n",
    "import random\n",
    "import tensorflow as tf\n",
    "import matplotlib.pyplot as plt\n",
    "from tqdm import tqdm\n",
    "%matplotlib inline"
   ]
  },
  {
   "cell_type": "raw",
   "metadata": {},
   "source": [
    "\n",
    "\n",
    "\n",
    "initializer = initializers.random_uniform(0, 0.1, seed=1)\n",
    "model = Sequential([\n",
    "    #Dense(8, input_shape=(16,), use_bias=False),\n",
    "    #Activation('relu'),\n",
    "    Dense(4, use_bias=False, kernel_initializer=initializer),\n",
    "    Activation('softmax'),\n",
    "])\n",
    "\n",
    "model.compile(optimizer=Adam(lr=0.01),\n",
    "              loss='mse')"
   ]
  },
  {
   "cell_type": "raw",
   "metadata": {},
   "source": [
    "model.compile(optimizer=Adam(lr=0.01),\n",
    "              loss='mse')"
   ]
  },
  {
   "cell_type": "code",
   "execution_count": 15,
   "metadata": {},
   "outputs": [],
   "source": [
    "from keras.models import Sequential\n",
    "from keras.layers import Dense, Activation\n",
    "from keras import initializers;\n",
    "from keras.optimizers import Adam\n",
    "\n",
    "def compute_Q(env):\n",
    "    \n",
    "    # Model\n",
    "    initializer = initializers.random_uniform(0, 0.1, seed=1)\n",
    "    model = Sequential([\n",
    "        #Dense(8, input_shape=(16,), use_bias=False),\n",
    "        #Activation('relu'),\n",
    "        Dense(4, use_bias=False, kernel_initializer=initializer),\n",
    "        Activation('softmax'),\n",
    "    ])\n",
    "\n",
    "    model.compile(optimizer=Adam(lr=0.01),\n",
    "                  loss='mse')\n",
    "    \n",
    "    \n",
    "    # Set learning parameters\n",
    "    y = .99\n",
    "    e = 0.1\n",
    "    num_episodes = 10000\n",
    "    #create lists to contain total rewards and steps per episode\n",
    "    jList = []\n",
    "    rList = []\n",
    "\n",
    "    for i in tqdm(range(num_episodes)):\n",
    "        #Reset environment and get first new observation\n",
    "        s = env.reset()\n",
    "        rAll = 0\n",
    "        d = False\n",
    "        j = 0\n",
    "        #The Q-Network\n",
    "        while j < 99:\n",
    "            j+=1\n",
    "            #Choose an action by greedily (with e chance of random action) from the Q-network\n",
    "            allQ = model.predict(np.identity(16)[s:s+1])\n",
    "            a = np.argmax(allQ[0])\n",
    "            if np.random.rand(1) < e:\n",
    "                a = env.action_space.sample()\n",
    "            #Get new state and reward from environment\n",
    "            s1,r,d,_ = env.step(a)\n",
    "            #Obtain the Q' values by feeding the new state through our network\n",
    "            Q1 = model.predict(np.identity(16)[s1:s1+1])\n",
    "            #Obtain maxQ' and set our target value for chosen action.\n",
    "            maxQ1 = np.max(Q1)\n",
    "            targetQ = allQ\n",
    "            targetQ[0,a] = r + y*maxQ1\n",
    "            #Train our network using target and predicted Q values\n",
    "            model.fit(np.identity(16)[s:s+1], targetQ, verbose=False)\n",
    "            \n",
    "            rAll += r\n",
    "            s = s1\n",
    "            if d == True:\n",
    "                #Reduce chance of random action as we train the model.\n",
    "                e = 1./((i/50) + 10)\n",
    "                break\n",
    "        jList.append(j)\n",
    "        rList.append(rAll)\n",
    "    print (\"Percent of succesful episodes: \" + str(sum(rList)/num_episodes) + \"%\")\n",
    "    return(model)"
   ]
  },
  {
   "cell_type": "code",
   "execution_count": 16,
   "metadata": {},
   "outputs": [
    {
     "name": "stderr",
     "output_type": "stream",
     "text": [
      "100%|██████████| 10000/10000 [09:18<00:00, 17.89it/s]"
     ]
    },
    {
     "name": "stdout",
     "output_type": "stream",
     "text": [
      "Percent of succesful episodes: 0.2507%\n"
     ]
    },
    {
     "name": "stderr",
     "output_type": "stream",
     "text": [
      "\n"
     ]
    }
   ],
   "source": [
    "env = gym.make('FrozenLake-v0')\n",
    "model = compute_Q(env)"
   ]
  },
  {
   "cell_type": "code",
   "execution_count": 17,
   "metadata": {},
   "outputs": [],
   "source": [
    "from IPython.display import clear_output\n",
    "from time import sleep\n",
    "\n",
    "def print_frames(frames, actions):\n",
    "    for i, frame in enumerate(frames):\n",
    "        clear_output(wait=True)\n",
    "        print(frame['frame'].getvalue())\n",
    "        print(\"Timestep:%s\" % (i + 1))\n",
    "        print(\"State: %s\" % frame['state'])\n",
    "        print(\"Action:  %s\" % actions[frame['action']])\n",
    "        print(\"Reward:  %s\" % frame['reward'])\n",
    "        sleep(0.5)"
   ]
  },
  {
   "cell_type": "code",
   "execution_count": 22,
   "metadata": {},
   "outputs": [],
   "source": [
    "def play_policy(env, model):\n",
    "    s = env.reset()\n",
    "    d = 0\n",
    "    frames = []\n",
    "    while not d:\n",
    "        Q = model.predict(np.identity(16)[s:s+1])\n",
    "        a = np.argmax(Q)\n",
    "        s, r, d, _ = env.step(a)\n",
    "        frames.append({\n",
    "            'frame': env.render(mode='ansi'),\n",
    "            'state': s,\n",
    "            'action': a,\n",
    "            'reward': r\n",
    "            })\n",
    "    return frames        "
   ]
  },
  {
   "cell_type": "code",
   "execution_count": 23,
   "metadata": {},
   "outputs": [
    {
     "name": "stdout",
     "output_type": "stream",
     "text": [
      "  (Down)\n",
      "SFFF\n",
      "FHFH\n",
      "FFFH\n",
      "HFF\u001b[41mG\u001b[0m\n",
      "\n",
      "Timestep:16\n",
      "State: 15\n",
      "Action:  ↓\n",
      "Reward:  1.0\n"
     ]
    }
   ],
   "source": [
    "frames = play_policy(env,model)\n",
    "actions = {0: '\\u2190', 1: '\\u2193', 2: '\\u2192', 3: '\\u2191'}\n",
    "print_frames(frames, actions)"
   ]
  },
  {
   "cell_type": "code",
   "execution_count": null,
   "metadata": {},
   "outputs": [],
   "source": [
    "\n"
   ]
  },
  {
   "cell_type": "code",
   "execution_count": null,
   "metadata": {},
   "outputs": [],
   "source": []
  }
 ],
 "metadata": {
  "kernelspec": {
   "display_name": "IRT_RL2",
   "language": "python",
   "name": "irt_rl2"
  },
  "language_info": {
   "codemirror_mode": {
    "name": "ipython",
    "version": 3
   },
   "file_extension": ".py",
   "mimetype": "text/x-python",
   "name": "python",
   "nbconvert_exporter": "python",
   "pygments_lexer": "ipython3",
   "version": "3.5.5"
  }
 },
 "nbformat": 4,
 "nbformat_minor": 2
}
