{
 "cells": [
  {
   "cell_type": "code",
   "execution_count": 1,
   "metadata": {},
   "outputs": [],
   "source": [
    "import gym\n",
    "import numpy as np"
   ]
  },
  {
   "cell_type": "code",
   "execution_count": 2,
   "metadata": {},
   "outputs": [],
   "source": [
    "def compute_Q(env):\n",
    "#Initialize table with all zeros\n",
    "    Q = np.zeros([env.observation_space.n,env.action_space.n])\n",
    "    # Set learning parameters\n",
    "    lr = .8\n",
    "    y = .95\n",
    "    num_episodes = 2000\n",
    "    #create lists to contain total rewards and steps per episode\n",
    "    #jList = []\n",
    "    rList = []\n",
    "    for i in range(num_episodes):\n",
    "        #Reset environment and get first new observation\n",
    "        s = env.reset()\n",
    "        d = False\n",
    "        j = 0\n",
    "        #The Q-Table learning algorithm\n",
    "        while j < 99:\n",
    "            j+=1\n",
    "            #Choose an action by greedily (with noise) picking from Q table\n",
    "            a = np.argmax(Q[s,:] + np.random.randn(1,env.action_space.n)*(1./(i+1)))\n",
    "            #Get new state and reward from environment\n",
    "            s1,r,d,_ = env.step(a)\n",
    "            #Update Q-Table with new knowledge\n",
    "            Q[s,a] = Q[s,a] + lr*(r + y*np.max(Q[s1,:]) - Q[s,a])\n",
    "            s = s1\n",
    "            if d == True:\n",
    "                break\n",
    "    return Q"
   ]
  },
  {
   "cell_type": "code",
   "execution_count": 3,
   "metadata": {},
   "outputs": [],
   "source": [
    "def play_policy(env, Q):\n",
    "    s = env.reset()\n",
    "    d = 0\n",
    "    frames = []\n",
    "    while not d:\n",
    "        a = np.argmax(Q[s,:])\n",
    "        s, r, d, _ = env.step(a)\n",
    "        frames.append({\n",
    "            'frame': env.render(mode='ansi'),\n",
    "            'state': s,\n",
    "            'action': a,\n",
    "            'reward': r\n",
    "            })\n",
    "    return frames        "
   ]
  },
  {
   "cell_type": "code",
   "execution_count": 4,
   "metadata": {},
   "outputs": [],
   "source": [
    "from IPython.display import clear_output\n",
    "from time import sleep\n",
    "\n",
    "def print_frames(frames, actions):\n",
    "    for i, frame in enumerate(frames):\n",
    "        clear_output(wait=True)\n",
    "        print(frame['frame'].getvalue())\n",
    "        print(\"Timestep:%s\" % (i + 1))\n",
    "        print(\"State: %s\" % frame['state'])\n",
    "        print(\"Action:  %s\" % actions[frame['action']])\n",
    "        print(\"Reward:  %s\" % frame['reward'])\n",
    "        sleep(0.5)"
   ]
  },
  {
   "cell_type": "code",
   "execution_count": 5,
   "metadata": {},
   "outputs": [
    {
     "name": "stdout",
     "output_type": "stream",
     "text": [
      "  (Down)\n",
      "SFFF\n",
      "FHFH\n",
      "FFFH\n",
      "HFF\u001b[41mG\u001b[0m\n",
      "\n",
      "Timestep:8\n",
      "State: 15\n",
      "Action:  ↓\n",
      "Reward:  1.0\n"
     ]
    }
   ],
   "source": [
    "env = gym.make('FrozenLake-v0')\n",
    "Q = compute_Q(env)\n",
    "frames = play_policy(env,Q)\n",
    "actions = {0: '\\u2190', 1: '\\u2193', 2: '\\u2192', 3: '\\u2191'}\n",
    "print_frames(frames, actions)"
   ]
  },
  {
   "cell_type": "code",
   "execution_count": 6,
   "metadata": {},
   "outputs": [
    {
     "name": "stdout",
     "output_type": "stream",
     "text": [
      "  (Right)\n",
      "SFFF\n",
      "FHFH\n",
      "FFFH\n",
      "HFF\u001b[41mG\u001b[0m\n",
      "\n",
      "Timestep:6\n",
      "State: 15\n",
      "Action:  →\n",
      "Reward:  1.0\n"
     ]
    }
   ],
   "source": [
    "from gym.envs.registration import register\n",
    "register(\n",
    "    id='FrozenLakeNotSlippery-v1',\n",
    "    entry_point='gym.envs.toy_text:FrozenLakeEnv',\n",
    "    kwargs={'map_name' : '4x4', 'is_slippery': False},\n",
    "    max_episode_steps=100,\n",
    "    reward_threshold=0.78, # optimum = .819\n",
    ")\n",
    "env = gym.make('FrozenLakeNotSlippery-v1')\n",
    "Q = compute_Q(env)\n",
    "frames = play_policy(env, Q)\n",
    "print_frames(frames, actions)"
   ]
  },
  {
   "cell_type": "code",
   "execution_count": 10,
   "metadata": {},
   "outputs": [],
   "source": [
    "env = gym.make('Blackjack-v0')"
   ]
  },
  {
   "cell_type": "code",
   "execution_count": null,
   "metadata": {},
   "outputs": [],
   "source": []
  }
 ],
 "metadata": {
  "kernelspec": {
   "display_name": "IRT_RL2",
   "language": "python",
   "name": "irt_rl2"
  },
  "language_info": {
   "codemirror_mode": {
    "name": "ipython",
    "version": 3
   },
   "file_extension": ".py",
   "mimetype": "text/x-python",
   "name": "python",
   "nbconvert_exporter": "python",
   "pygments_lexer": "ipython3",
   "version": "3.5.5"
  }
 },
 "nbformat": 4,
 "nbformat_minor": 2
}
